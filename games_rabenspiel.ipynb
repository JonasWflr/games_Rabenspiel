{
 "cells": [
  {
   "cell_type": "markdown",
   "metadata": {},
   "source": [
    "# analyze winning chances in Rabenspiel"
   ]
  },
  {
   "cell_type": "markdown",
   "metadata": {},
   "source": [
    "find probability to win against the raven\n",
    "do it with simulation\n",
    "\n",
    "Results:\n",
    "\n",
    "- winning chances for raven: ca. 32%\n",
    "- number of raven cards left when game is finished:\n",
    "  - median: 1.5 cards\n",
    "  - 25 percentile: 3 cards"
   ]
  },
  {
   "cell_type": "code",
   "execution_count": 237,
   "metadata": {},
   "outputs": [],
   "source": [
    "import random\n",
    "import pandas as pd\n",
    "\n",
    "def die_cast ():\n",
    "    return(random.randint(0,5))\n",
    "\n",
    "def play_game():\n",
    "    # initiate a game\n",
    "    game_start_state = {'resource':['yellow', 'red', 'blue', 'green', 'raven'],\n",
    "              'state':[10,10,10,10,9]\n",
    "             }\n",
    "    game_state = pd.DataFrame(game_start_state)\n",
    "    game_state.set_index('resource',inplace=True)\n",
    "    i = 0 # rounds\n",
    "    r = 0 # raven won\n",
    "    while(sum(game_state.iloc[:4,0])>0 and game_state.iloc[4,0]>0):\n",
    "        #print('sum '+str(sum(game_state.iloc[:4,0])))\n",
    "        cast = die_cast()\n",
    "\n",
    "        # fruit or raven\n",
    "        if cast <=4:\n",
    "            game_state.iloc[cast,0]= max(game_state.iloc[cast,0]-1,0)\n",
    "        \n",
    "        # basket\n",
    "        if cast == 5:\n",
    "            #basket --> take 2 fruits from biggest piles\n",
    "            #print('basket')\n",
    "            # get resources with highest count\n",
    "            res_highest_count = game_state.iloc[:4].nlargest(2,'state',keep='first')\n",
    "            for index, row in res_highest_count.iterrows():\n",
    "                game_state.loc[index][0] = max(game_state.loc[index][0] - 1,0)\n",
    "        i=i+1\n",
    "\n",
    "    if(game_state.iloc[4,0]==0):\n",
    "        r = 1\n",
    "    return(i,r,game_state.iloc[4,0],1) # return rounds (i) and if raven has won (r=1)\n",
    "\n",
    "   \n"
   ]
  },
  {
   "cell_type": "markdown",
   "metadata": {},
   "source": [
    "# do simulation"
   ]
  },
  {
   "cell_type": "code",
   "execution_count": 304,
   "metadata": {},
   "outputs": [],
   "source": [
    "number_of_runs = 1000\n",
    "\n",
    "columns = ['round','raven won?','raven state','count']\n",
    "results = pd.DataFrame([play_game() for j in range(number_of_runs)],columns=columns)"
   ]
  },
  {
   "cell_type": "markdown",
   "metadata": {},
   "source": [
    "## histogram"
   ]
  },
  {
   "cell_type": "markdown",
   "metadata": {},
   "source": [
    "1) how often does the raven win?\n",
    "\n",
    "2) how many raven cards are left when came is finished?"
   ]
  },
  {
   "cell_type": "code",
   "execution_count": 305,
   "metadata": {},
   "outputs": [
    {
     "name": "stdout",
     "output_type": "stream",
     "text": [
      "runs:                       1000\n",
      "raven winning percentage:   32.0 %\n"
     ]
    },
    {
     "data": {
      "text/plain": [
       "<matplotlib.axes._subplots.AxesSubplot at 0x57a2b12a90>"
      ]
     },
     "execution_count": 305,
     "metadata": {},
     "output_type": "execute_result"
    },
    {
     "data": {
      "image/png": "[encoded data removed]",
      "text/plain": [
       "<Figure size 432x288 with 1 Axes>"
      ]
     },
     "metadata": {
      "needs_background": "light"
     },
     "output_type": "display_data"
    }
   ],
   "source": [
    "#print(results)\n",
    "s=results.loc[:,'raven won?'].sum()\n",
    "c=results.loc[:,'raven won?'].count()\n",
    "#print(results.groupby('raven state').nunique())\n",
    "#print('----')\n",
    "#print(results.groupby('raven state').nunique().iloc[:,0].count())\n",
    "\n",
    "print('runs:                       '+str(c))\n",
    "print('raven winning percentage:   '+str(round(s/c,2)*100)+' %')\n",
    "#\n",
    "#results['raven state'].hist(color=['red'],bins=results.groupby('raven state').nunique().iloc[:,0].count())\n",
    "results_grouped = results.groupby(['raven state'])['count'].count()\n",
    "#print(results_grouped)\n",
    "#print('----------------------')\n",
    "results_grouped.plot(kind='bar',color='blue')\n"
   ]
  },
  {
   "cell_type": "markdown",
   "metadata": {},
   "source": [
    "## CDF"
   ]
  },
  {
   "cell_type": "markdown",
   "metadata": {},
   "source": [
    "how many raven cards are left? CDF plus quartiles"
   ]
  },
  {
   "cell_type": "code",
   "execution_count": 307,
   "metadata": {},
   "outputs": [
    {
     "data": {
      "text/plain": [
       "[<matplotlib.lines.Line2D at 0x57a443eda0>]"
      ]
     },
     "execution_count": 307,
     "metadata": {},
     "output_type": "execute_result"
    },
    {
     "data": {
      "image/png": "[encoded data removed]",
      "text/plain": [
       "<Figure size 432x288 with 1 Axes>"
      ]
     },
     "metadata": {
      "needs_background": "light"
     },
     "output_type": "display_data"
    }
   ],
   "source": [
    "cdf = results_grouped.cumsum()\n",
    "plt = cdf.plot()\n",
    "plt.set_ylim(0,cdf.max())\n",
    "plt.plot([cdf.max()/4 for i in range(cdf.count())],color='gray')\n",
    "plt.plot([cdf.max()/2 for i in range(cdf.count())],color='black')\n",
    "plt.plot([cdf.max()/4*3 for i in range(cdf.count())],color='gray')\n"
   ]
  },
  {
   "cell_type": "markdown",
   "metadata": {},
   "source": [
    "# sandbox"
   ]
  },
  {
   "cell_type": "code",
   "execution_count": 113,
   "metadata": {},
   "outputs": [
    {
     "name": "stdout",
     "output_type": "stream",
     "text": [
      "<class 'pandas.core.frame.DataFrame'>\n",
      "----\n",
      "red\n",
      "10\n",
      "----\n",
      "blue\n",
      "6\n",
      "==========00\n"
     ]
    },
    {
     "data": {
      "text/plain": [
       "19"
      ]
     },
     "execution_count": 113,
     "metadata": {},
     "output_type": "execute_result"
    }
   ],
   "source": [
    "\n",
    "game_start_state = {'resource':['yellow', 'red', 'blue', 'green', 'raven'],\n",
    "                    'state':[5,10,6,4,9]\n",
    "                }\n",
    "game_state = pd.DataFrame(game_start_state)\n",
    "game_state.set_index('resource',inplace=True)\n",
    "\n",
    "\n",
    "res_highest_count = game_state.iloc[:4].nlargest(2,'state',keep='first')\n",
    "print(type(res_highest_count))\n",
    "for index, row in res_highest_count.iterrows():\n",
    "    print('----')\n",
    "    print(index)\n",
    "    print(game_state.loc[index][0])\n",
    "    game_state.loc[index][0] = game_state.loc[index][0] - 1\n",
    "    \n",
    "print('==========00')    \n",
    "game_state\n",
    "#print(sum(game_state.iloc[:4]))\n",
    "game_state.iloc[:3,0]\n",
    "sum(game_state.iloc[:3,0])"
   ]
  },
  {
   "cell_type": "code",
   "execution_count": 235,
   "metadata": {},
   "outputs": [
    {
     "data": {
      "text/plain": [
       "<pandas.core.groupby.groupby.DataFrameGroupBy object at 0x00000057A2AD2EF0>"
      ]
     },
     "execution_count": 235,
     "metadata": {},
     "output_type": "execute_result"
    }
   ],
   "source": [
    "#print(results['raven state'])\n",
    "results.groupby('raven state')\n",
    "#results['raven state'].groupby('raven state').nunique()"
   ]
  },
  {
   "cell_type": "code",
   "execution_count": null,
   "metadata": {},
   "outputs": [],
   "source": []
  }
 ],
 "metadata": {
  "kernelspec": {
   "display_name": "Python 3",
   "language": "python",
   "name": "python3"
  },
  "language_info": {
   "codemirror_mode": {
    "name": "ipython",
    "version": 3
   },
   "file_extension": ".py",
   "mimetype": "text/x-python",
   "name": "python",
   "nbconvert_exporter": "python",
   "pygments_lexer": "ipython3",
   "version": "3.8.3"
  }
 },
 "nbformat": 4,
 "nbformat_minor": 2
}
